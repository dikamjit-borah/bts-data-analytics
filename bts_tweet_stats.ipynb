{
 "cells": [
  {
   "cell_type": "code",
   "execution_count": 1,
   "metadata": {},
   "outputs": [],
   "source": [
    "import pandas as pd\n",
    "import seaborn as sns\n",
    "import matplotlib.pyplot as plt\n",
    "import copy\n",
    "import numpy as np\n",
    "import csv"
   ]
  },
  {
   "cell_type": "code",
   "execution_count": 13,
   "metadata": {},
   "outputs": [
    {
     "data": {
      "text/plain": [
       "(742, 7)"
      ]
     },
     "execution_count": 13,
     "metadata": {},
     "output_type": "execute_result"
    }
   ],
   "source": [
    "df = pd.read_csv('eshani_final.csv',encoding='latin-1')\n",
    "df.shape"
   ]
  },
  {
   "cell_type": "code",
   "execution_count": null,
   "metadata": {},
   "outputs": [],
   "source": [
    "city_count  = df['TWEET_LOCATION'].value_counts()\n",
    "city_count = city_count[:13,]\n",
    "plt.figure(figsize=(25,10))\n",
    "sns.barplot(city_count.index, city_count.values)\n",
    "plt.title('Tweets v/s cities')\n",
    "plt.ylabel('Number of Tweets', fontsize=12)\n",
    "plt.xlabel('City', fontsize=1)\n",
    "plt.show()city_count  = df['TWEET_LOCATION'].value_counts()\n",
    "city_count = city_count[:13,]\n",
    "plt.figure(figsize=(25,10))\n",
    "sns.barplot(city_count.index, city_count.values)\n",
    "plt.title('Tweets v/s cities')\n",
    "plt.ylabel('Number of Tweets', fontsize=12)\n",
    "plt.xlabel('City', fontsize=1)\n",
    "plt.show()"
   ]
  },
  {
   "cell_type": "code",
   "execution_count": 15,
   "metadata": {},
   "outputs": [],
   "source": [
    "df_hashtags = list(df['TWEET_HASHTAGS'])"
   ]
  },
  {
   "cell_type": "code",
   "execution_count": 16,
   "metadata": {},
   "outputs": [],
   "source": [
    "df_hashtags = [item for items in df_hashtags for item in items.split(\",\")]"
   ]
  },
  {
   "cell_type": "code",
   "execution_count": 17,
   "metadata": {},
   "outputs": [],
   "source": [
    "dict_hashtags = dict((x,df_hashtags.count(x)) for x in set(df_hashtags))"
   ]
  },
  {
   "cell_type": "code",
   "execution_count": 18,
   "metadata": {},
   "outputs": [],
   "source": [
    "with open('hashtags_data_07-12.csv', 'w', newline='') as csvfile:\n",
    "    spamwriter = csv.writer(csvfile)\n",
    "    for key in dict_hashtags:\n",
    "        spamwriter.writerow([key, dict_hashtags[key]])\n"
   ]
  },
  {
   "cell_type": "code",
   "execution_count": 19,
   "metadata": {},
   "outputs": [],
   "source": [
    "df_new = df[df['TWEET_MENTIONS'].notnull()]\n",
    "\n",
    "df_mentions = list(df_new['TWEET_MENTIONS'])\n",
    "df_mentions = [item for items in df_mentions for item in items.split(\",\")]\n",
    "\n"
   ]
  },
  {
   "cell_type": "code",
   "execution_count": 20,
   "metadata": {},
   "outputs": [],
   "source": [
    "dict_mentions = dict((x,df_mentions.count(x)) for x in set(df_mentions))"
   ]
  },
  {
   "cell_type": "code",
   "execution_count": 21,
   "metadata": {},
   "outputs": [],
   "source": [
    "with open('mentions_data_07-12.csv', 'w', newline='') as csvfile:\n",
    "    spamwriter = csv.writer(csvfile)\n",
    "    for key in dict_mentions:\n",
    "        spamwriter.writerow([key, dict_mentions[key]])"
   ]
  },
  {
   "cell_type": "code",
   "execution_count": null,
   "metadata": {},
   "outputs": [],
   "source": []
  }
 ],
 "metadata": {
  "kernelspec": {
   "display_name": "Python 3",
   "language": "python",
   "name": "python3"
  },
  "language_info": {
   "codemirror_mode": {
    "name": "ipython",
    "version": 3
   },
   "file_extension": ".py",
   "mimetype": "text/x-python",
   "name": "python",
   "nbconvert_exporter": "python",
   "pygments_lexer": "ipython3",
   "version": "3.7.1"
  }
 },
 "nbformat": 4,
 "nbformat_minor": 2
}
